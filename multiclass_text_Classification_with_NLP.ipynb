{
  "nbformat": 4,
  "nbformat_minor": 0,
  "metadata": {
    "colab": {
      "provenance": []
    },
    "kernelspec": {
      "name": "python3",
      "display_name": "Python 3"
    },
    "language_info": {
      "name": "python"
    }
  },
  "cells": [
    {
      "cell_type": "markdown",
      "source": [
        "Proyek Pertama : Membuat Model NLP dengan TensorFlow\n",
        "\n",
        "Author: Fajar Ari Nugroho_1494037162101-489\n"
      ],
      "metadata": {
        "id": "Z9w63O4skToW"
      }
    },
    {
      "cell_type": "markdown",
      "source": [
        "Proyek pembuatan model ini menggunakan dataset berasal dari Kaggle, yaitu:<a href=\"https://www.kaggle.com/datasets/yufengdev/bbc-fulltext-and-category\"> BBC articles fulltext and category</a>. Langkah pertama, yaitu me-load dan merubah format dataset .csv menjadi dataframe."
      ],
      "metadata": {
        "id": "Z6oyoHCrkz4D"
      }
    },
    {
      "cell_type": "markdown",
      "source": [
        "# Data Collect and Preprocessing"
      ],
      "metadata": {
        "id": "XsJPyllY5UV5"
      }
    },
    {
      "cell_type": "code",
      "source": [
        "from google.colab import auth\n",
        "auth.authenticate_user()\n",
        "import gspread\n",
        "from google.auth import default\n",
        "creds, _ = default()\n",
        "\n",
        "gc = gspread.authorize(creds)"
      ],
      "metadata": {
        "id": "6UlDIBHzxUDR"
      },
      "execution_count": 1,
      "outputs": []
    },
    {
      "cell_type": "code",
      "source": [
        "import pandas as pd\n",
        "\n",
        "#Read data\n",
        "sheet_url = gc.open_by_url('https://docs.google.com/spreadsheets/d/1A8sYQrCHEtUx24VKQIt7pJHfqU12wzV1QA4vyMakILw/edit#gid=416023702')\n",
        "data = sheet_url.worksheet('bbc-text').get_all_values()\n",
        "df = pd.DataFrame(data[1:], columns=data[0])\n",
        "df.info()"
      ],
      "metadata": {
        "colab": {
          "base_uri": "https://localhost:8080/"
        },
        "id": "Mw7I6UkCx8Vt",
        "outputId": "5dc3b461-c89d-4110-e414-5c39a3f47ab9"
      },
      "execution_count": 2,
      "outputs": [
        {
          "output_type": "stream",
          "name": "stdout",
          "text": [
            "<class 'pandas.core.frame.DataFrame'>\n",
            "RangeIndex: 2225 entries, 0 to 2224\n",
            "Data columns (total 2 columns):\n",
            " #   Column    Non-Null Count  Dtype \n",
            "---  ------    --------------  ----- \n",
            " 0   category  2225 non-null   object\n",
            " 1   text      2225 non-null   object\n",
            "dtypes: object(2)\n",
            "memory usage: 34.9+ KB\n"
          ]
        }
      ]
    },
    {
      "cell_type": "markdown",
      "source": [
        "Terlihat bahwa dataset terdiri dari 2225 data dan tidak ada data yang null, untuk memastikan bahwa data sudah bersih, akan dicari apakah ada data duplikat, jika ada akan dihapus."
      ],
      "metadata": {
        "id": "E4Br-qW1F9FI"
      }
    },
    {
      "cell_type": "code",
      "source": [
        "df.drop_duplicates()\n",
        "df.info()"
      ],
      "metadata": {
        "id": "lQTu4esuOFiI",
        "colab": {
          "base_uri": "https://localhost:8080/"
        },
        "outputId": "496532b8-0965-4845-b40e-a1062c2e08a0"
      },
      "execution_count": 3,
      "outputs": [
        {
          "output_type": "stream",
          "name": "stdout",
          "text": [
            "<class 'pandas.core.frame.DataFrame'>\n",
            "RangeIndex: 2225 entries, 0 to 2224\n",
            "Data columns (total 2 columns):\n",
            " #   Column    Non-Null Count  Dtype \n",
            "---  ------    --------------  ----- \n",
            " 0   category  2225 non-null   object\n",
            " 1   text      2225 non-null   object\n",
            "dtypes: object(2)\n",
            "memory usage: 34.9+ KB\n"
          ]
        }
      ]
    },
    {
      "cell_type": "code",
      "source": [
        "df.sample(5)"
      ],
      "metadata": {
        "colab": {
          "base_uri": "https://localhost:8080/",
          "height": 206
        },
        "id": "280UrdvhzhmY",
        "outputId": "edc90d42-8ee7-48bc-a0d0-a56b5aa6e489"
      },
      "execution_count": 5,
      "outputs": [
        {
          "output_type": "execute_result",
          "data": {
            "text/plain": [
              "      category                                               text\n",
              "645      sport  mcclaren targets champions league middlesbroug...\n",
              "990   business  us in eu tariff chaos trade row the us has ask...\n",
              "1065     sport  bellamy under new fire newcastle boss graeme s...\n",
              "1244  business  uk house prices dip in november uk house price...\n",
              "466      sport  healey targets england comeback leicester wing..."
            ],
            "text/html": [
              "\n",
              "  <div id=\"df-54adb5c0-3d68-4cb8-b2e5-80d14856af74\">\n",
              "    <div class=\"colab-df-container\">\n",
              "      <div>\n",
              "<style scoped>\n",
              "    .dataframe tbody tr th:only-of-type {\n",
              "        vertical-align: middle;\n",
              "    }\n",
              "\n",
              "    .dataframe tbody tr th {\n",
              "        vertical-align: top;\n",
              "    }\n",
              "\n",
              "    .dataframe thead th {\n",
              "        text-align: right;\n",
              "    }\n",
              "</style>\n",
              "<table border=\"1\" class=\"dataframe\">\n",
              "  <thead>\n",
              "    <tr style=\"text-align: right;\">\n",
              "      <th></th>\n",
              "      <th>category</th>\n",
              "      <th>text</th>\n",
              "    </tr>\n",
              "  </thead>\n",
              "  <tbody>\n",
              "    <tr>\n",
              "      <th>645</th>\n",
              "      <td>sport</td>\n",
              "      <td>mcclaren targets champions league middlesbroug...</td>\n",
              "    </tr>\n",
              "    <tr>\n",
              "      <th>990</th>\n",
              "      <td>business</td>\n",
              "      <td>us in eu tariff chaos trade row the us has ask...</td>\n",
              "    </tr>\n",
              "    <tr>\n",
              "      <th>1065</th>\n",
              "      <td>sport</td>\n",
              "      <td>bellamy under new fire newcastle boss graeme s...</td>\n",
              "    </tr>\n",
              "    <tr>\n",
              "      <th>1244</th>\n",
              "      <td>business</td>\n",
              "      <td>uk house prices dip in november uk house price...</td>\n",
              "    </tr>\n",
              "    <tr>\n",
              "      <th>466</th>\n",
              "      <td>sport</td>\n",
              "      <td>healey targets england comeback leicester wing...</td>\n",
              "    </tr>\n",
              "  </tbody>\n",
              "</table>\n",
              "</div>\n",
              "      <button class=\"colab-df-convert\" onclick=\"convertToInteractive('df-54adb5c0-3d68-4cb8-b2e5-80d14856af74')\"\n",
              "              title=\"Convert this dataframe to an interactive table.\"\n",
              "              style=\"display:none;\">\n",
              "        \n",
              "  <svg xmlns=\"http://www.w3.org/2000/svg\" height=\"24px\"viewBox=\"0 0 24 24\"\n",
              "       width=\"24px\">\n",
              "    <path d=\"M0 0h24v24H0V0z\" fill=\"none\"/>\n",
              "    <path d=\"M18.56 5.44l.94 2.06.94-2.06 2.06-.94-2.06-.94-.94-2.06-.94 2.06-2.06.94zm-11 1L8.5 8.5l.94-2.06 2.06-.94-2.06-.94L8.5 2.5l-.94 2.06-2.06.94zm10 10l.94 2.06.94-2.06 2.06-.94-2.06-.94-.94-2.06-.94 2.06-2.06.94z\"/><path d=\"M17.41 7.96l-1.37-1.37c-.4-.4-.92-.59-1.43-.59-.52 0-1.04.2-1.43.59L10.3 9.45l-7.72 7.72c-.78.78-.78 2.05 0 2.83L4 21.41c.39.39.9.59 1.41.59.51 0 1.02-.2 1.41-.59l7.78-7.78 2.81-2.81c.8-.78.8-2.07 0-2.86zM5.41 20L4 18.59l7.72-7.72 1.47 1.35L5.41 20z\"/>\n",
              "  </svg>\n",
              "      </button>\n",
              "      \n",
              "  <style>\n",
              "    .colab-df-container {\n",
              "      display:flex;\n",
              "      flex-wrap:wrap;\n",
              "      gap: 12px;\n",
              "    }\n",
              "\n",
              "    .colab-df-convert {\n",
              "      background-color: #E8F0FE;\n",
              "      border: none;\n",
              "      border-radius: 50%;\n",
              "      cursor: pointer;\n",
              "      display: none;\n",
              "      fill: #1967D2;\n",
              "      height: 32px;\n",
              "      padding: 0 0 0 0;\n",
              "      width: 32px;\n",
              "    }\n",
              "\n",
              "    .colab-df-convert:hover {\n",
              "      background-color: #E2EBFA;\n",
              "      box-shadow: 0px 1px 2px rgba(60, 64, 67, 0.3), 0px 1px 3px 1px rgba(60, 64, 67, 0.15);\n",
              "      fill: #174EA6;\n",
              "    }\n",
              "\n",
              "    [theme=dark] .colab-df-convert {\n",
              "      background-color: #3B4455;\n",
              "      fill: #D2E3FC;\n",
              "    }\n",
              "\n",
              "    [theme=dark] .colab-df-convert:hover {\n",
              "      background-color: #434B5C;\n",
              "      box-shadow: 0px 1px 3px 1px rgba(0, 0, 0, 0.15);\n",
              "      filter: drop-shadow(0px 1px 2px rgba(0, 0, 0, 0.3));\n",
              "      fill: #FFFFFF;\n",
              "    }\n",
              "  </style>\n",
              "\n",
              "      <script>\n",
              "        const buttonEl =\n",
              "          document.querySelector('#df-54adb5c0-3d68-4cb8-b2e5-80d14856af74 button.colab-df-convert');\n",
              "        buttonEl.style.display =\n",
              "          google.colab.kernel.accessAllowed ? 'block' : 'none';\n",
              "\n",
              "        async function convertToInteractive(key) {\n",
              "          const element = document.querySelector('#df-54adb5c0-3d68-4cb8-b2e5-80d14856af74');\n",
              "          const dataTable =\n",
              "            await google.colab.kernel.invokeFunction('convertToInteractive',\n",
              "                                                     [key], {});\n",
              "          if (!dataTable) return;\n",
              "\n",
              "          const docLinkHtml = 'Like what you see? Visit the ' +\n",
              "            '<a target=\"_blank\" href=https://colab.research.google.com/notebooks/data_table.ipynb>data table notebook</a>'\n",
              "            + ' to learn more about interactive tables.';\n",
              "          element.innerHTML = '';\n",
              "          dataTable['output_type'] = 'display_data';\n",
              "          await google.colab.output.renderOutput(dataTable, element);\n",
              "          const docLink = document.createElement('div');\n",
              "          docLink.innerHTML = docLinkHtml;\n",
              "          element.appendChild(docLink);\n",
              "        }\n",
              "      </script>\n",
              "    </div>\n",
              "  </div>\n",
              "  "
            ]
          },
          "metadata": {},
          "execution_count": 5
        }
      ]
    },
    {
      "cell_type": "markdown",
      "source": [
        "Dataset tidak berkurang yang menandakan bahwa tidak ada data yang duplikat. Selanjutnya akan dilakukan `removing stopwords` terlebih dahulu, untuk mengurangi kosa kata yang tidak begitu penting pada pemodelan kita menggunakan librari nltk."
      ],
      "metadata": {
        "id": "shiM9xrJRo08"
      }
    },
    {
      "cell_type": "code",
      "source": [
        "import nltk\n",
        "import re\n",
        "from nltk.corpus import stopwords\n",
        "from nltk.tokenize import word_tokenize\n",
        "nltk.download('stopwords')\n",
        "nltk.download('punkt')\n",
        "\n",
        "def word_tokenize_wrapper(text):\n",
        "  return word_tokenize(text)\n",
        "\n",
        "df['tokenize'] = df['text'].apply(word_tokenize_wrapper)\n",
        "df.sample(5)"
      ],
      "metadata": {
        "colab": {
          "base_uri": "https://localhost:8080/",
          "height": 276
        },
        "id": "Nm7ORF7FRocb",
        "outputId": "a6343664-0fe1-4baa-b1c8-2350e663eb5e"
      },
      "execution_count": 7,
      "outputs": [
        {
          "output_type": "stream",
          "name": "stderr",
          "text": [
            "[nltk_data] Downloading package stopwords to /root/nltk_data...\n",
            "[nltk_data]   Package stopwords is already up-to-date!\n",
            "[nltk_data] Downloading package punkt to /root/nltk_data...\n",
            "[nltk_data]   Unzipping tokenizers/punkt.zip.\n"
          ]
        },
        {
          "output_type": "execute_result",
          "data": {
            "text/plain": [
              "      category                                               text  \\\n",
              "1593     sport  farrell saga to drag on - lindsay wigan chairm...   \n",
              "195   politics  mp s shock at long lost daughter labour mp ste...   \n",
              "71    business  singapore growth at 8.1% in 2004 singapore s e...   \n",
              "546      sport  radcliffe enjoys winning comeback paula radcli...   \n",
              "164   politics  ukip candidate suspended eurosceptic party uki...   \n",
              "\n",
              "                                               tokenize  \n",
              "1593  [farrell, saga, to, drag, on, -, lindsay, wiga...  \n",
              "195   [mp, s, shock, at, long, lost, daughter, labou...  \n",
              "71    [singapore, growth, at, 8.1, %, in, 2004, sing...  \n",
              "546   [radcliffe, enjoys, winning, comeback, paula, ...  \n",
              "164   [ukip, candidate, suspended, eurosceptic, part...  "
            ],
            "text/html": [
              "\n",
              "  <div id=\"df-ac4e5a4f-d3b6-4dcf-bb40-23d176007216\">\n",
              "    <div class=\"colab-df-container\">\n",
              "      <div>\n",
              "<style scoped>\n",
              "    .dataframe tbody tr th:only-of-type {\n",
              "        vertical-align: middle;\n",
              "    }\n",
              "\n",
              "    .dataframe tbody tr th {\n",
              "        vertical-align: top;\n",
              "    }\n",
              "\n",
              "    .dataframe thead th {\n",
              "        text-align: right;\n",
              "    }\n",
              "</style>\n",
              "<table border=\"1\" class=\"dataframe\">\n",
              "  <thead>\n",
              "    <tr style=\"text-align: right;\">\n",
              "      <th></th>\n",
              "      <th>category</th>\n",
              "      <th>text</th>\n",
              "      <th>tokenize</th>\n",
              "    </tr>\n",
              "  </thead>\n",
              "  <tbody>\n",
              "    <tr>\n",
              "      <th>1593</th>\n",
              "      <td>sport</td>\n",
              "      <td>farrell saga to drag on - lindsay wigan chairm...</td>\n",
              "      <td>[farrell, saga, to, drag, on, -, lindsay, wiga...</td>\n",
              "    </tr>\n",
              "    <tr>\n",
              "      <th>195</th>\n",
              "      <td>politics</td>\n",
              "      <td>mp s shock at long lost daughter labour mp ste...</td>\n",
              "      <td>[mp, s, shock, at, long, lost, daughter, labou...</td>\n",
              "    </tr>\n",
              "    <tr>\n",
              "      <th>71</th>\n",
              "      <td>business</td>\n",
              "      <td>singapore growth at 8.1% in 2004 singapore s e...</td>\n",
              "      <td>[singapore, growth, at, 8.1, %, in, 2004, sing...</td>\n",
              "    </tr>\n",
              "    <tr>\n",
              "      <th>546</th>\n",
              "      <td>sport</td>\n",
              "      <td>radcliffe enjoys winning comeback paula radcli...</td>\n",
              "      <td>[radcliffe, enjoys, winning, comeback, paula, ...</td>\n",
              "    </tr>\n",
              "    <tr>\n",
              "      <th>164</th>\n",
              "      <td>politics</td>\n",
              "      <td>ukip candidate suspended eurosceptic party uki...</td>\n",
              "      <td>[ukip, candidate, suspended, eurosceptic, part...</td>\n",
              "    </tr>\n",
              "  </tbody>\n",
              "</table>\n",
              "</div>\n",
              "      <button class=\"colab-df-convert\" onclick=\"convertToInteractive('df-ac4e5a4f-d3b6-4dcf-bb40-23d176007216')\"\n",
              "              title=\"Convert this dataframe to an interactive table.\"\n",
              "              style=\"display:none;\">\n",
              "        \n",
              "  <svg xmlns=\"http://www.w3.org/2000/svg\" height=\"24px\"viewBox=\"0 0 24 24\"\n",
              "       width=\"24px\">\n",
              "    <path d=\"M0 0h24v24H0V0z\" fill=\"none\"/>\n",
              "    <path d=\"M18.56 5.44l.94 2.06.94-2.06 2.06-.94-2.06-.94-.94-2.06-.94 2.06-2.06.94zm-11 1L8.5 8.5l.94-2.06 2.06-.94-2.06-.94L8.5 2.5l-.94 2.06-2.06.94zm10 10l.94 2.06.94-2.06 2.06-.94-2.06-.94-.94-2.06-.94 2.06-2.06.94z\"/><path d=\"M17.41 7.96l-1.37-1.37c-.4-.4-.92-.59-1.43-.59-.52 0-1.04.2-1.43.59L10.3 9.45l-7.72 7.72c-.78.78-.78 2.05 0 2.83L4 21.41c.39.39.9.59 1.41.59.51 0 1.02-.2 1.41-.59l7.78-7.78 2.81-2.81c.8-.78.8-2.07 0-2.86zM5.41 20L4 18.59l7.72-7.72 1.47 1.35L5.41 20z\"/>\n",
              "  </svg>\n",
              "      </button>\n",
              "      \n",
              "  <style>\n",
              "    .colab-df-container {\n",
              "      display:flex;\n",
              "      flex-wrap:wrap;\n",
              "      gap: 12px;\n",
              "    }\n",
              "\n",
              "    .colab-df-convert {\n",
              "      background-color: #E8F0FE;\n",
              "      border: none;\n",
              "      border-radius: 50%;\n",
              "      cursor: pointer;\n",
              "      display: none;\n",
              "      fill: #1967D2;\n",
              "      height: 32px;\n",
              "      padding: 0 0 0 0;\n",
              "      width: 32px;\n",
              "    }\n",
              "\n",
              "    .colab-df-convert:hover {\n",
              "      background-color: #E2EBFA;\n",
              "      box-shadow: 0px 1px 2px rgba(60, 64, 67, 0.3), 0px 1px 3px 1px rgba(60, 64, 67, 0.15);\n",
              "      fill: #174EA6;\n",
              "    }\n",
              "\n",
              "    [theme=dark] .colab-df-convert {\n",
              "      background-color: #3B4455;\n",
              "      fill: #D2E3FC;\n",
              "    }\n",
              "\n",
              "    [theme=dark] .colab-df-convert:hover {\n",
              "      background-color: #434B5C;\n",
              "      box-shadow: 0px 1px 3px 1px rgba(0, 0, 0, 0.15);\n",
              "      filter: drop-shadow(0px 1px 2px rgba(0, 0, 0, 0.3));\n",
              "      fill: #FFFFFF;\n",
              "    }\n",
              "  </style>\n",
              "\n",
              "      <script>\n",
              "        const buttonEl =\n",
              "          document.querySelector('#df-ac4e5a4f-d3b6-4dcf-bb40-23d176007216 button.colab-df-convert');\n",
              "        buttonEl.style.display =\n",
              "          google.colab.kernel.accessAllowed ? 'block' : 'none';\n",
              "\n",
              "        async function convertToInteractive(key) {\n",
              "          const element = document.querySelector('#df-ac4e5a4f-d3b6-4dcf-bb40-23d176007216');\n",
              "          const dataTable =\n",
              "            await google.colab.kernel.invokeFunction('convertToInteractive',\n",
              "                                                     [key], {});\n",
              "          if (!dataTable) return;\n",
              "\n",
              "          const docLinkHtml = 'Like what you see? Visit the ' +\n",
              "            '<a target=\"_blank\" href=https://colab.research.google.com/notebooks/data_table.ipynb>data table notebook</a>'\n",
              "            + ' to learn more about interactive tables.';\n",
              "          element.innerHTML = '';\n",
              "          dataTable['output_type'] = 'display_data';\n",
              "          await google.colab.output.renderOutput(dataTable, element);\n",
              "          const docLink = document.createElement('div');\n",
              "          docLink.innerHTML = docLinkHtml;\n",
              "          element.appendChild(docLink);\n",
              "        }\n",
              "      </script>\n",
              "    </div>\n",
              "  </div>\n",
              "  "
            ]
          },
          "metadata": {},
          "execution_count": 7
        }
      ]
    },
    {
      "cell_type": "code",
      "source": [
        "list_stopwords = set(stopwords.words('english'))\n",
        "\n",
        "def stopwords_removal(words):\n",
        "  return [word for word in words if word not in list_stopwords]\n",
        "\n",
        "df['text_stopwords'] = df['tokenize'].apply(stopwords_removal)\n",
        "df.sample(5)"
      ],
      "metadata": {
        "colab": {
          "base_uri": "https://localhost:8080/",
          "height": 206
        },
        "id": "N90JLQSR0uVx",
        "outputId": "a961ba64-ea22-428a-e7e0-9bc5eaf48c1e"
      },
      "execution_count": 8,
      "outputs": [
        {
          "output_type": "execute_result",
          "data": {
            "text/plain": [
              "           category                                               text  \\\n",
              "1663          sport  robben sidelined with broken foot chelsea wing...   \n",
              "801           sport  ireland 19-13 england ireland consigned englan...   \n",
              "447        business  weak data buffets french economy a batch of do...   \n",
              "2158       politics  tsunami  won t divert africa aid  uk aid to he...   \n",
              "1041  entertainment  aviator  creator  in oscars snub the man who s...   \n",
              "\n",
              "                                               tokenize  \\\n",
              "1663  [robben, sidelined, with, broken, foot, chelse...   \n",
              "801   [ireland, 19-13, england, ireland, consigned, ...   \n",
              "447   [weak, data, buffets, french, economy, a, batc...   \n",
              "2158  [tsunami, won, t, divert, africa, aid, uk, aid...   \n",
              "1041  [aviator, creator, in, oscars, snub, the, man,...   \n",
              "\n",
              "                                         text_stopwords  \n",
              "1663  [robben, sidelined, broken, foot, chelsea, win...  \n",
              "801   [ireland, 19-13, england, ireland, consigned, ...  \n",
              "447   [weak, data, buffets, french, economy, batch, ...  \n",
              "2158  [tsunami, divert, africa, aid, uk, aid, help, ...  \n",
              "1041  [aviator, creator, oscars, snub, man, said, go...  "
            ],
            "text/html": [
              "\n",
              "  <div id=\"df-770ac3f1-f83e-4fb1-bc72-33c1deca8d9f\">\n",
              "    <div class=\"colab-df-container\">\n",
              "      <div>\n",
              "<style scoped>\n",
              "    .dataframe tbody tr th:only-of-type {\n",
              "        vertical-align: middle;\n",
              "    }\n",
              "\n",
              "    .dataframe tbody tr th {\n",
              "        vertical-align: top;\n",
              "    }\n",
              "\n",
              "    .dataframe thead th {\n",
              "        text-align: right;\n",
              "    }\n",
              "</style>\n",
              "<table border=\"1\" class=\"dataframe\">\n",
              "  <thead>\n",
              "    <tr style=\"text-align: right;\">\n",
              "      <th></th>\n",
              "      <th>category</th>\n",
              "      <th>text</th>\n",
              "      <th>tokenize</th>\n",
              "      <th>text_stopwords</th>\n",
              "    </tr>\n",
              "  </thead>\n",
              "  <tbody>\n",
              "    <tr>\n",
              "      <th>1663</th>\n",
              "      <td>sport</td>\n",
              "      <td>robben sidelined with broken foot chelsea wing...</td>\n",
              "      <td>[robben, sidelined, with, broken, foot, chelse...</td>\n",
              "      <td>[robben, sidelined, broken, foot, chelsea, win...</td>\n",
              "    </tr>\n",
              "    <tr>\n",
              "      <th>801</th>\n",
              "      <td>sport</td>\n",
              "      <td>ireland 19-13 england ireland consigned englan...</td>\n",
              "      <td>[ireland, 19-13, england, ireland, consigned, ...</td>\n",
              "      <td>[ireland, 19-13, england, ireland, consigned, ...</td>\n",
              "    </tr>\n",
              "    <tr>\n",
              "      <th>447</th>\n",
              "      <td>business</td>\n",
              "      <td>weak data buffets french economy a batch of do...</td>\n",
              "      <td>[weak, data, buffets, french, economy, a, batc...</td>\n",
              "      <td>[weak, data, buffets, french, economy, batch, ...</td>\n",
              "    </tr>\n",
              "    <tr>\n",
              "      <th>2158</th>\n",
              "      <td>politics</td>\n",
              "      <td>tsunami  won t divert africa aid  uk aid to he...</td>\n",
              "      <td>[tsunami, won, t, divert, africa, aid, uk, aid...</td>\n",
              "      <td>[tsunami, divert, africa, aid, uk, aid, help, ...</td>\n",
              "    </tr>\n",
              "    <tr>\n",
              "      <th>1041</th>\n",
              "      <td>entertainment</td>\n",
              "      <td>aviator  creator  in oscars snub the man who s...</td>\n",
              "      <td>[aviator, creator, in, oscars, snub, the, man,...</td>\n",
              "      <td>[aviator, creator, oscars, snub, man, said, go...</td>\n",
              "    </tr>\n",
              "  </tbody>\n",
              "</table>\n",
              "</div>\n",
              "      <button class=\"colab-df-convert\" onclick=\"convertToInteractive('df-770ac3f1-f83e-4fb1-bc72-33c1deca8d9f')\"\n",
              "              title=\"Convert this dataframe to an interactive table.\"\n",
              "              style=\"display:none;\">\n",
              "        \n",
              "  <svg xmlns=\"http://www.w3.org/2000/svg\" height=\"24px\"viewBox=\"0 0 24 24\"\n",
              "       width=\"24px\">\n",
              "    <path d=\"M0 0h24v24H0V0z\" fill=\"none\"/>\n",
              "    <path d=\"M18.56 5.44l.94 2.06.94-2.06 2.06-.94-2.06-.94-.94-2.06-.94 2.06-2.06.94zm-11 1L8.5 8.5l.94-2.06 2.06-.94-2.06-.94L8.5 2.5l-.94 2.06-2.06.94zm10 10l.94 2.06.94-2.06 2.06-.94-2.06-.94-.94-2.06-.94 2.06-2.06.94z\"/><path d=\"M17.41 7.96l-1.37-1.37c-.4-.4-.92-.59-1.43-.59-.52 0-1.04.2-1.43.59L10.3 9.45l-7.72 7.72c-.78.78-.78 2.05 0 2.83L4 21.41c.39.39.9.59 1.41.59.51 0 1.02-.2 1.41-.59l7.78-7.78 2.81-2.81c.8-.78.8-2.07 0-2.86zM5.41 20L4 18.59l7.72-7.72 1.47 1.35L5.41 20z\"/>\n",
              "  </svg>\n",
              "      </button>\n",
              "      \n",
              "  <style>\n",
              "    .colab-df-container {\n",
              "      display:flex;\n",
              "      flex-wrap:wrap;\n",
              "      gap: 12px;\n",
              "    }\n",
              "\n",
              "    .colab-df-convert {\n",
              "      background-color: #E8F0FE;\n",
              "      border: none;\n",
              "      border-radius: 50%;\n",
              "      cursor: pointer;\n",
              "      display: none;\n",
              "      fill: #1967D2;\n",
              "      height: 32px;\n",
              "      padding: 0 0 0 0;\n",
              "      width: 32px;\n",
              "    }\n",
              "\n",
              "    .colab-df-convert:hover {\n",
              "      background-color: #E2EBFA;\n",
              "      box-shadow: 0px 1px 2px rgba(60, 64, 67, 0.3), 0px 1px 3px 1px rgba(60, 64, 67, 0.15);\n",
              "      fill: #174EA6;\n",
              "    }\n",
              "\n",
              "    [theme=dark] .colab-df-convert {\n",
              "      background-color: #3B4455;\n",
              "      fill: #D2E3FC;\n",
              "    }\n",
              "\n",
              "    [theme=dark] .colab-df-convert:hover {\n",
              "      background-color: #434B5C;\n",
              "      box-shadow: 0px 1px 3px 1px rgba(0, 0, 0, 0.15);\n",
              "      filter: drop-shadow(0px 1px 2px rgba(0, 0, 0, 0.3));\n",
              "      fill: #FFFFFF;\n",
              "    }\n",
              "  </style>\n",
              "\n",
              "      <script>\n",
              "        const buttonEl =\n",
              "          document.querySelector('#df-770ac3f1-f83e-4fb1-bc72-33c1deca8d9f button.colab-df-convert');\n",
              "        buttonEl.style.display =\n",
              "          google.colab.kernel.accessAllowed ? 'block' : 'none';\n",
              "\n",
              "        async function convertToInteractive(key) {\n",
              "          const element = document.querySelector('#df-770ac3f1-f83e-4fb1-bc72-33c1deca8d9f');\n",
              "          const dataTable =\n",
              "            await google.colab.kernel.invokeFunction('convertToInteractive',\n",
              "                                                     [key], {});\n",
              "          if (!dataTable) return;\n",
              "\n",
              "          const docLinkHtml = 'Like what you see? Visit the ' +\n",
              "            '<a target=\"_blank\" href=https://colab.research.google.com/notebooks/data_table.ipynb>data table notebook</a>'\n",
              "            + ' to learn more about interactive tables.';\n",
              "          element.innerHTML = '';\n",
              "          dataTable['output_type'] = 'display_data';\n",
              "          await google.colab.output.renderOutput(dataTable, element);\n",
              "          const docLink = document.createElement('div');\n",
              "          docLink.innerHTML = docLinkHtml;\n",
              "          element.appendChild(docLink);\n",
              "        }\n",
              "      </script>\n",
              "    </div>\n",
              "  </div>\n",
              "  "
            ]
          },
          "metadata": {},
          "execution_count": 8
        }
      ]
    },
    {
      "cell_type": "code",
      "source": [
        "df['description'] = df['text_stopwords'].apply(' '.join)\n",
        "df = df[['text', 'tokenize', 'text_stopwords', 'description', 'category']]\n",
        "df.sample(5)"
      ],
      "metadata": {
        "colab": {
          "base_uri": "https://localhost:8080/",
          "height": 337
        },
        "id": "gYsdOE_c19xj",
        "outputId": "f35823da-911a-4b72-c393-17ca654c9ad2"
      },
      "execution_count": 9,
      "outputs": [
        {
          "output_type": "execute_result",
          "data": {
            "text/plain": [
              "                                                   text  \\\n",
              "548   lib dems unveil women s manifesto the liberal ...   \n",
              "1739  collins to compete in birmingham world and com...   \n",
              "1130  what price for  trusted pc security   you can ...   \n",
              "265   davenport hits out at wimbledon world number o...   \n",
              "1264  poll explains free-kick decision referee graha...   \n",
              "\n",
              "                                               tokenize  \\\n",
              "548   [lib, dems, unveil, women, s, manifesto, the, ...   \n",
              "1739  [collins, to, compete, in, birmingham, world, ...   \n",
              "1130  [what, price, for, trusted, pc, security, you,...   \n",
              "265   [davenport, hits, out, at, wimbledon, world, n...   \n",
              "1264  [poll, explains, free-kick, decision, referee,...   \n",
              "\n",
              "                                         text_stopwords  \\\n",
              "548   [lib, dems, unveil, women, manifesto, liberal,...   \n",
              "1739  [collins, compete, birmingham, world, commonwe...   \n",
              "1130  [price, trusted, pc, security, buy, trusted, c...   \n",
              "265   [davenport, hits, wimbledon, world, number, on...   \n",
              "1264  [poll, explains, free-kick, decision, referee,...   \n",
              "\n",
              "                                            description  category  \n",
              "548   lib dems unveil women manifesto liberal democr...  politics  \n",
              "1739  collins compete birmingham world commonwealth ...     sport  \n",
              "1130  price trusted pc security buy trusted computer...      tech  \n",
              "265   davenport hits wimbledon world number one lind...     sport  \n",
              "1264  poll explains free-kick decision referee graha...     sport  "
            ],
            "text/html": [
              "\n",
              "  <div id=\"df-b56d8dc8-c2d0-49cb-b9d7-ab48fc3ea485\">\n",
              "    <div class=\"colab-df-container\">\n",
              "      <div>\n",
              "<style scoped>\n",
              "    .dataframe tbody tr th:only-of-type {\n",
              "        vertical-align: middle;\n",
              "    }\n",
              "\n",
              "    .dataframe tbody tr th {\n",
              "        vertical-align: top;\n",
              "    }\n",
              "\n",
              "    .dataframe thead th {\n",
              "        text-align: right;\n",
              "    }\n",
              "</style>\n",
              "<table border=\"1\" class=\"dataframe\">\n",
              "  <thead>\n",
              "    <tr style=\"text-align: right;\">\n",
              "      <th></th>\n",
              "      <th>text</th>\n",
              "      <th>tokenize</th>\n",
              "      <th>text_stopwords</th>\n",
              "      <th>description</th>\n",
              "      <th>category</th>\n",
              "    </tr>\n",
              "  </thead>\n",
              "  <tbody>\n",
              "    <tr>\n",
              "      <th>548</th>\n",
              "      <td>lib dems unveil women s manifesto the liberal ...</td>\n",
              "      <td>[lib, dems, unveil, women, s, manifesto, the, ...</td>\n",
              "      <td>[lib, dems, unveil, women, manifesto, liberal,...</td>\n",
              "      <td>lib dems unveil women manifesto liberal democr...</td>\n",
              "      <td>politics</td>\n",
              "    </tr>\n",
              "    <tr>\n",
              "      <th>1739</th>\n",
              "      <td>collins to compete in birmingham world and com...</td>\n",
              "      <td>[collins, to, compete, in, birmingham, world, ...</td>\n",
              "      <td>[collins, compete, birmingham, world, commonwe...</td>\n",
              "      <td>collins compete birmingham world commonwealth ...</td>\n",
              "      <td>sport</td>\n",
              "    </tr>\n",
              "    <tr>\n",
              "      <th>1130</th>\n",
              "      <td>what price for  trusted pc security   you can ...</td>\n",
              "      <td>[what, price, for, trusted, pc, security, you,...</td>\n",
              "      <td>[price, trusted, pc, security, buy, trusted, c...</td>\n",
              "      <td>price trusted pc security buy trusted computer...</td>\n",
              "      <td>tech</td>\n",
              "    </tr>\n",
              "    <tr>\n",
              "      <th>265</th>\n",
              "      <td>davenport hits out at wimbledon world number o...</td>\n",
              "      <td>[davenport, hits, out, at, wimbledon, world, n...</td>\n",
              "      <td>[davenport, hits, wimbledon, world, number, on...</td>\n",
              "      <td>davenport hits wimbledon world number one lind...</td>\n",
              "      <td>sport</td>\n",
              "    </tr>\n",
              "    <tr>\n",
              "      <th>1264</th>\n",
              "      <td>poll explains free-kick decision referee graha...</td>\n",
              "      <td>[poll, explains, free-kick, decision, referee,...</td>\n",
              "      <td>[poll, explains, free-kick, decision, referee,...</td>\n",
              "      <td>poll explains free-kick decision referee graha...</td>\n",
              "      <td>sport</td>\n",
              "    </tr>\n",
              "  </tbody>\n",
              "</table>\n",
              "</div>\n",
              "      <button class=\"colab-df-convert\" onclick=\"convertToInteractive('df-b56d8dc8-c2d0-49cb-b9d7-ab48fc3ea485')\"\n",
              "              title=\"Convert this dataframe to an interactive table.\"\n",
              "              style=\"display:none;\">\n",
              "        \n",
              "  <svg xmlns=\"http://www.w3.org/2000/svg\" height=\"24px\"viewBox=\"0 0 24 24\"\n",
              "       width=\"24px\">\n",
              "    <path d=\"M0 0h24v24H0V0z\" fill=\"none\"/>\n",
              "    <path d=\"M18.56 5.44l.94 2.06.94-2.06 2.06-.94-2.06-.94-.94-2.06-.94 2.06-2.06.94zm-11 1L8.5 8.5l.94-2.06 2.06-.94-2.06-.94L8.5 2.5l-.94 2.06-2.06.94zm10 10l.94 2.06.94-2.06 2.06-.94-2.06-.94-.94-2.06-.94 2.06-2.06.94z\"/><path d=\"M17.41 7.96l-1.37-1.37c-.4-.4-.92-.59-1.43-.59-.52 0-1.04.2-1.43.59L10.3 9.45l-7.72 7.72c-.78.78-.78 2.05 0 2.83L4 21.41c.39.39.9.59 1.41.59.51 0 1.02-.2 1.41-.59l7.78-7.78 2.81-2.81c.8-.78.8-2.07 0-2.86zM5.41 20L4 18.59l7.72-7.72 1.47 1.35L5.41 20z\"/>\n",
              "  </svg>\n",
              "      </button>\n",
              "      \n",
              "  <style>\n",
              "    .colab-df-container {\n",
              "      display:flex;\n",
              "      flex-wrap:wrap;\n",
              "      gap: 12px;\n",
              "    }\n",
              "\n",
              "    .colab-df-convert {\n",
              "      background-color: #E8F0FE;\n",
              "      border: none;\n",
              "      border-radius: 50%;\n",
              "      cursor: pointer;\n",
              "      display: none;\n",
              "      fill: #1967D2;\n",
              "      height: 32px;\n",
              "      padding: 0 0 0 0;\n",
              "      width: 32px;\n",
              "    }\n",
              "\n",
              "    .colab-df-convert:hover {\n",
              "      background-color: #E2EBFA;\n",
              "      box-shadow: 0px 1px 2px rgba(60, 64, 67, 0.3), 0px 1px 3px 1px rgba(60, 64, 67, 0.15);\n",
              "      fill: #174EA6;\n",
              "    }\n",
              "\n",
              "    [theme=dark] .colab-df-convert {\n",
              "      background-color: #3B4455;\n",
              "      fill: #D2E3FC;\n",
              "    }\n",
              "\n",
              "    [theme=dark] .colab-df-convert:hover {\n",
              "      background-color: #434B5C;\n",
              "      box-shadow: 0px 1px 3px 1px rgba(0, 0, 0, 0.15);\n",
              "      filter: drop-shadow(0px 1px 2px rgba(0, 0, 0, 0.3));\n",
              "      fill: #FFFFFF;\n",
              "    }\n",
              "  </style>\n",
              "\n",
              "      <script>\n",
              "        const buttonEl =\n",
              "          document.querySelector('#df-b56d8dc8-c2d0-49cb-b9d7-ab48fc3ea485 button.colab-df-convert');\n",
              "        buttonEl.style.display =\n",
              "          google.colab.kernel.accessAllowed ? 'block' : 'none';\n",
              "\n",
              "        async function convertToInteractive(key) {\n",
              "          const element = document.querySelector('#df-b56d8dc8-c2d0-49cb-b9d7-ab48fc3ea485');\n",
              "          const dataTable =\n",
              "            await google.colab.kernel.invokeFunction('convertToInteractive',\n",
              "                                                     [key], {});\n",
              "          if (!dataTable) return;\n",
              "\n",
              "          const docLinkHtml = 'Like what you see? Visit the ' +\n",
              "            '<a target=\"_blank\" href=https://colab.research.google.com/notebooks/data_table.ipynb>data table notebook</a>'\n",
              "            + ' to learn more about interactive tables.';\n",
              "          element.innerHTML = '';\n",
              "          dataTable['output_type'] = 'display_data';\n",
              "          await google.colab.output.renderOutput(dataTable, element);\n",
              "          const docLink = document.createElement('div');\n",
              "          docLink.innerHTML = docLinkHtml;\n",
              "          element.appendChild(docLink);\n",
              "        }\n",
              "      </script>\n",
              "    </div>\n",
              "  </div>\n",
              "  "
            ]
          },
          "metadata": {},
          "execution_count": 9
        }
      ]
    },
    {
      "cell_type": "markdown",
      "source": [
        "Tahap akhir, akan dilakukan drop kolom yang tidak dibutuhkan dan gunakan kolom `description` dan `category` saja untuk pemodelan yang akan dibuat."
      ],
      "metadata": {
        "id": "zDZYhzhV3aXa"
      }
    },
    {
      "cell_type": "code",
      "source": [
        "df_fin = df.drop(columns=['text', 'tokenize', 'text_stopwords'])\n",
        "df_fin.sample(5)"
      ],
      "metadata": {
        "colab": {
          "base_uri": "https://localhost:8080/",
          "height": 206
        },
        "id": "A6NBvs1w3VGt",
        "outputId": "8e704c18-13a0-41e7-980a-b970e8516aac"
      },
      "execution_count": 10,
      "outputs": [
        {
          "output_type": "execute_result",
          "data": {
            "text/plain": [
              "                                            description       category\n",
              "1021  format wars could confuse users technology fir...           tech\n",
              "619   virgin radio offers 3g broadcast uk broadcaste...           tech\n",
              "2026  job cuts false economy - tuc plans shed 71 000...       politics\n",
              "1359  howard taunts blair splits tony blair feud gor...       politics\n",
              "372   u2 play grammy awards show irish rock band u2 ...  entertainment"
            ],
            "text/html": [
              "\n",
              "  <div id=\"df-570c5822-abd5-41be-a9b0-c499e2d68113\">\n",
              "    <div class=\"colab-df-container\">\n",
              "      <div>\n",
              "<style scoped>\n",
              "    .dataframe tbody tr th:only-of-type {\n",
              "        vertical-align: middle;\n",
              "    }\n",
              "\n",
              "    .dataframe tbody tr th {\n",
              "        vertical-align: top;\n",
              "    }\n",
              "\n",
              "    .dataframe thead th {\n",
              "        text-align: right;\n",
              "    }\n",
              "</style>\n",
              "<table border=\"1\" class=\"dataframe\">\n",
              "  <thead>\n",
              "    <tr style=\"text-align: right;\">\n",
              "      <th></th>\n",
              "      <th>description</th>\n",
              "      <th>category</th>\n",
              "    </tr>\n",
              "  </thead>\n",
              "  <tbody>\n",
              "    <tr>\n",
              "      <th>1021</th>\n",
              "      <td>format wars could confuse users technology fir...</td>\n",
              "      <td>tech</td>\n",
              "    </tr>\n",
              "    <tr>\n",
              "      <th>619</th>\n",
              "      <td>virgin radio offers 3g broadcast uk broadcaste...</td>\n",
              "      <td>tech</td>\n",
              "    </tr>\n",
              "    <tr>\n",
              "      <th>2026</th>\n",
              "      <td>job cuts false economy - tuc plans shed 71 000...</td>\n",
              "      <td>politics</td>\n",
              "    </tr>\n",
              "    <tr>\n",
              "      <th>1359</th>\n",
              "      <td>howard taunts blair splits tony blair feud gor...</td>\n",
              "      <td>politics</td>\n",
              "    </tr>\n",
              "    <tr>\n",
              "      <th>372</th>\n",
              "      <td>u2 play grammy awards show irish rock band u2 ...</td>\n",
              "      <td>entertainment</td>\n",
              "    </tr>\n",
              "  </tbody>\n",
              "</table>\n",
              "</div>\n",
              "      <button class=\"colab-df-convert\" onclick=\"convertToInteractive('df-570c5822-abd5-41be-a9b0-c499e2d68113')\"\n",
              "              title=\"Convert this dataframe to an interactive table.\"\n",
              "              style=\"display:none;\">\n",
              "        \n",
              "  <svg xmlns=\"http://www.w3.org/2000/svg\" height=\"24px\"viewBox=\"0 0 24 24\"\n",
              "       width=\"24px\">\n",
              "    <path d=\"M0 0h24v24H0V0z\" fill=\"none\"/>\n",
              "    <path d=\"M18.56 5.44l.94 2.06.94-2.06 2.06-.94-2.06-.94-.94-2.06-.94 2.06-2.06.94zm-11 1L8.5 8.5l.94-2.06 2.06-.94-2.06-.94L8.5 2.5l-.94 2.06-2.06.94zm10 10l.94 2.06.94-2.06 2.06-.94-2.06-.94-.94-2.06-.94 2.06-2.06.94z\"/><path d=\"M17.41 7.96l-1.37-1.37c-.4-.4-.92-.59-1.43-.59-.52 0-1.04.2-1.43.59L10.3 9.45l-7.72 7.72c-.78.78-.78 2.05 0 2.83L4 21.41c.39.39.9.59 1.41.59.51 0 1.02-.2 1.41-.59l7.78-7.78 2.81-2.81c.8-.78.8-2.07 0-2.86zM5.41 20L4 18.59l7.72-7.72 1.47 1.35L5.41 20z\"/>\n",
              "  </svg>\n",
              "      </button>\n",
              "      \n",
              "  <style>\n",
              "    .colab-df-container {\n",
              "      display:flex;\n",
              "      flex-wrap:wrap;\n",
              "      gap: 12px;\n",
              "    }\n",
              "\n",
              "    .colab-df-convert {\n",
              "      background-color: #E8F0FE;\n",
              "      border: none;\n",
              "      border-radius: 50%;\n",
              "      cursor: pointer;\n",
              "      display: none;\n",
              "      fill: #1967D2;\n",
              "      height: 32px;\n",
              "      padding: 0 0 0 0;\n",
              "      width: 32px;\n",
              "    }\n",
              "\n",
              "    .colab-df-convert:hover {\n",
              "      background-color: #E2EBFA;\n",
              "      box-shadow: 0px 1px 2px rgba(60, 64, 67, 0.3), 0px 1px 3px 1px rgba(60, 64, 67, 0.15);\n",
              "      fill: #174EA6;\n",
              "    }\n",
              "\n",
              "    [theme=dark] .colab-df-convert {\n",
              "      background-color: #3B4455;\n",
              "      fill: #D2E3FC;\n",
              "    }\n",
              "\n",
              "    [theme=dark] .colab-df-convert:hover {\n",
              "      background-color: #434B5C;\n",
              "      box-shadow: 0px 1px 3px 1px rgba(0, 0, 0, 0.15);\n",
              "      filter: drop-shadow(0px 1px 2px rgba(0, 0, 0, 0.3));\n",
              "      fill: #FFFFFF;\n",
              "    }\n",
              "  </style>\n",
              "\n",
              "      <script>\n",
              "        const buttonEl =\n",
              "          document.querySelector('#df-570c5822-abd5-41be-a9b0-c499e2d68113 button.colab-df-convert');\n",
              "        buttonEl.style.display =\n",
              "          google.colab.kernel.accessAllowed ? 'block' : 'none';\n",
              "\n",
              "        async function convertToInteractive(key) {\n",
              "          const element = document.querySelector('#df-570c5822-abd5-41be-a9b0-c499e2d68113');\n",
              "          const dataTable =\n",
              "            await google.colab.kernel.invokeFunction('convertToInteractive',\n",
              "                                                     [key], {});\n",
              "          if (!dataTable) return;\n",
              "\n",
              "          const docLinkHtml = 'Like what you see? Visit the ' +\n",
              "            '<a target=\"_blank\" href=https://colab.research.google.com/notebooks/data_table.ipynb>data table notebook</a>'\n",
              "            + ' to learn more about interactive tables.';\n",
              "          element.innerHTML = '';\n",
              "          dataTable['output_type'] = 'display_data';\n",
              "          await google.colab.output.renderOutput(dataTable, element);\n",
              "          const docLink = document.createElement('div');\n",
              "          docLink.innerHTML = docLinkHtml;\n",
              "          element.appendChild(docLink);\n",
              "        }\n",
              "      </script>\n",
              "    </div>\n",
              "  </div>\n",
              "  "
            ]
          },
          "metadata": {},
          "execution_count": 10
        }
      ]
    },
    {
      "cell_type": "markdown",
      "source": [
        "Setelah data dirasa sudah bersih dan siap, selanjutnya untuk kolom `category` akan dipecah ke masing-masing kolom menggunakan teknik `one-hot-encoding`"
      ],
      "metadata": {
        "id": "W00Z8bl9LbNU"
      }
    },
    {
      "cell_type": "code",
      "source": [
        "kategori = pd.get_dummies(df_fin.category)\n",
        "df_new = pd.concat([df_fin, kategori], axis=1)\n",
        "df_new = df_new.drop(columns='category')\n",
        "df_new.sample(5)"
      ],
      "metadata": {
        "colab": {
          "base_uri": "https://localhost:8080/",
          "height": 206
        },
        "id": "NsUYm1LdIfcT",
        "outputId": "f3249f03-479e-4d5c-8241-dbb63881de4c"
      },
      "execution_count": 11,
      "outputs": [
        {
          "output_type": "execute_result",
          "data": {
            "text/plain": [
              "                                            description  business  \\\n",
              "1857  parliament record scandal locked room heart pa...         0   \n",
              "392   robinson answers critics england captain jason...         0   \n",
              "1334  clarke defends terror detentions home secretar...         0   \n",
              "1921  talks held gibraltar future two days talks fut...         0   \n",
              "818   parmalat boasts doubled profits parmalat itali...         1   \n",
              "\n",
              "      entertainment  politics  sport  tech  \n",
              "1857              0         1      0     0  \n",
              "392               0         0      1     0  \n",
              "1334              0         1      0     0  \n",
              "1921              0         1      0     0  \n",
              "818               0         0      0     0  "
            ],
            "text/html": [
              "\n",
              "  <div id=\"df-1e872c7d-2fca-4197-9cab-5dde46220a99\">\n",
              "    <div class=\"colab-df-container\">\n",
              "      <div>\n",
              "<style scoped>\n",
              "    .dataframe tbody tr th:only-of-type {\n",
              "        vertical-align: middle;\n",
              "    }\n",
              "\n",
              "    .dataframe tbody tr th {\n",
              "        vertical-align: top;\n",
              "    }\n",
              "\n",
              "    .dataframe thead th {\n",
              "        text-align: right;\n",
              "    }\n",
              "</style>\n",
              "<table border=\"1\" class=\"dataframe\">\n",
              "  <thead>\n",
              "    <tr style=\"text-align: right;\">\n",
              "      <th></th>\n",
              "      <th>description</th>\n",
              "      <th>business</th>\n",
              "      <th>entertainment</th>\n",
              "      <th>politics</th>\n",
              "      <th>sport</th>\n",
              "      <th>tech</th>\n",
              "    </tr>\n",
              "  </thead>\n",
              "  <tbody>\n",
              "    <tr>\n",
              "      <th>1857</th>\n",
              "      <td>parliament record scandal locked room heart pa...</td>\n",
              "      <td>0</td>\n",
              "      <td>0</td>\n",
              "      <td>1</td>\n",
              "      <td>0</td>\n",
              "      <td>0</td>\n",
              "    </tr>\n",
              "    <tr>\n",
              "      <th>392</th>\n",
              "      <td>robinson answers critics england captain jason...</td>\n",
              "      <td>0</td>\n",
              "      <td>0</td>\n",
              "      <td>0</td>\n",
              "      <td>1</td>\n",
              "      <td>0</td>\n",
              "    </tr>\n",
              "    <tr>\n",
              "      <th>1334</th>\n",
              "      <td>clarke defends terror detentions home secretar...</td>\n",
              "      <td>0</td>\n",
              "      <td>0</td>\n",
              "      <td>1</td>\n",
              "      <td>0</td>\n",
              "      <td>0</td>\n",
              "    </tr>\n",
              "    <tr>\n",
              "      <th>1921</th>\n",
              "      <td>talks held gibraltar future two days talks fut...</td>\n",
              "      <td>0</td>\n",
              "      <td>0</td>\n",
              "      <td>1</td>\n",
              "      <td>0</td>\n",
              "      <td>0</td>\n",
              "    </tr>\n",
              "    <tr>\n",
              "      <th>818</th>\n",
              "      <td>parmalat boasts doubled profits parmalat itali...</td>\n",
              "      <td>1</td>\n",
              "      <td>0</td>\n",
              "      <td>0</td>\n",
              "      <td>0</td>\n",
              "      <td>0</td>\n",
              "    </tr>\n",
              "  </tbody>\n",
              "</table>\n",
              "</div>\n",
              "      <button class=\"colab-df-convert\" onclick=\"convertToInteractive('df-1e872c7d-2fca-4197-9cab-5dde46220a99')\"\n",
              "              title=\"Convert this dataframe to an interactive table.\"\n",
              "              style=\"display:none;\">\n",
              "        \n",
              "  <svg xmlns=\"http://www.w3.org/2000/svg\" height=\"24px\"viewBox=\"0 0 24 24\"\n",
              "       width=\"24px\">\n",
              "    <path d=\"M0 0h24v24H0V0z\" fill=\"none\"/>\n",
              "    <path d=\"M18.56 5.44l.94 2.06.94-2.06 2.06-.94-2.06-.94-.94-2.06-.94 2.06-2.06.94zm-11 1L8.5 8.5l.94-2.06 2.06-.94-2.06-.94L8.5 2.5l-.94 2.06-2.06.94zm10 10l.94 2.06.94-2.06 2.06-.94-2.06-.94-.94-2.06-.94 2.06-2.06.94z\"/><path d=\"M17.41 7.96l-1.37-1.37c-.4-.4-.92-.59-1.43-.59-.52 0-1.04.2-1.43.59L10.3 9.45l-7.72 7.72c-.78.78-.78 2.05 0 2.83L4 21.41c.39.39.9.59 1.41.59.51 0 1.02-.2 1.41-.59l7.78-7.78 2.81-2.81c.8-.78.8-2.07 0-2.86zM5.41 20L4 18.59l7.72-7.72 1.47 1.35L5.41 20z\"/>\n",
              "  </svg>\n",
              "      </button>\n",
              "      \n",
              "  <style>\n",
              "    .colab-df-container {\n",
              "      display:flex;\n",
              "      flex-wrap:wrap;\n",
              "      gap: 12px;\n",
              "    }\n",
              "\n",
              "    .colab-df-convert {\n",
              "      background-color: #E8F0FE;\n",
              "      border: none;\n",
              "      border-radius: 50%;\n",
              "      cursor: pointer;\n",
              "      display: none;\n",
              "      fill: #1967D2;\n",
              "      height: 32px;\n",
              "      padding: 0 0 0 0;\n",
              "      width: 32px;\n",
              "    }\n",
              "\n",
              "    .colab-df-convert:hover {\n",
              "      background-color: #E2EBFA;\n",
              "      box-shadow: 0px 1px 2px rgba(60, 64, 67, 0.3), 0px 1px 3px 1px rgba(60, 64, 67, 0.15);\n",
              "      fill: #174EA6;\n",
              "    }\n",
              "\n",
              "    [theme=dark] .colab-df-convert {\n",
              "      background-color: #3B4455;\n",
              "      fill: #D2E3FC;\n",
              "    }\n",
              "\n",
              "    [theme=dark] .colab-df-convert:hover {\n",
              "      background-color: #434B5C;\n",
              "      box-shadow: 0px 1px 3px 1px rgba(0, 0, 0, 0.15);\n",
              "      filter: drop-shadow(0px 1px 2px rgba(0, 0, 0, 0.3));\n",
              "      fill: #FFFFFF;\n",
              "    }\n",
              "  </style>\n",
              "\n",
              "      <script>\n",
              "        const buttonEl =\n",
              "          document.querySelector('#df-1e872c7d-2fca-4197-9cab-5dde46220a99 button.colab-df-convert');\n",
              "        buttonEl.style.display =\n",
              "          google.colab.kernel.accessAllowed ? 'block' : 'none';\n",
              "\n",
              "        async function convertToInteractive(key) {\n",
              "          const element = document.querySelector('#df-1e872c7d-2fca-4197-9cab-5dde46220a99');\n",
              "          const dataTable =\n",
              "            await google.colab.kernel.invokeFunction('convertToInteractive',\n",
              "                                                     [key], {});\n",
              "          if (!dataTable) return;\n",
              "\n",
              "          const docLinkHtml = 'Like what you see? Visit the ' +\n",
              "            '<a target=\"_blank\" href=https://colab.research.google.com/notebooks/data_table.ipynb>data table notebook</a>'\n",
              "            + ' to learn more about interactive tables.';\n",
              "          element.innerHTML = '';\n",
              "          dataTable['output_type'] = 'display_data';\n",
              "          await google.colab.output.renderOutput(dataTable, element);\n",
              "          const docLink = document.createElement('div');\n",
              "          docLink.innerHTML = docLinkHtml;\n",
              "          element.appendChild(docLink);\n",
              "        }\n",
              "      </script>\n",
              "    </div>\n",
              "  </div>\n",
              "  "
            ]
          },
          "metadata": {},
          "execution_count": 11
        }
      ]
    },
    {
      "cell_type": "markdown",
      "source": [
        "# Modelling"
      ],
      "metadata": {
        "id": "INYCOhwr5arp"
      }
    },
    {
      "cell_type": "markdown",
      "source": [
        "Sebelum membuat model, dilakukan dahulu perubahan format dari dataframe menjadi numpy array, dan dilanjutkan dengan membagi dataset menjadi data train dan data test."
      ],
      "metadata": {
        "id": "fkpNO8muN9cZ"
      }
    },
    {
      "cell_type": "code",
      "source": [
        "desc = df_new['description'].values\n",
        "label = df_new[['business',\t'entertainment',\t'politics',\t'sport',\t'tech']].values"
      ],
      "metadata": {
        "id": "VCDxp7lfMw9I"
      },
      "execution_count": 12,
      "outputs": []
    },
    {
      "cell_type": "code",
      "source": [
        "from sklearn.model_selection import train_test_split\n",
        "\n",
        "train_desc, test_desc, train_label, test_label = train_test_split(desc, label, test_size=0.2)"
      ],
      "metadata": {
        "id": "obNcD5CnOjPC"
      },
      "execution_count": 13,
      "outputs": []
    },
    {
      "cell_type": "markdown",
      "source": [
        "Dilanjutkan dengan proses tokenisasi pada array"
      ],
      "metadata": {
        "id": "Eg2YHdrq6Sa3"
      }
    },
    {
      "cell_type": "code",
      "source": [
        "from tensorflow.keras.preprocessing.text import Tokenizer\n",
        "from tensorflow.keras.preprocessing.sequence import pad_sequences\n",
        "\n",
        "tokenizer = Tokenizer(num_words=5000, oov_token='x')\n",
        "tokenizer.fit_on_texts(train_desc)\n",
        "tokenizer.fit_on_texts(test_desc)"
      ],
      "metadata": {
        "id": "g-0kZHyw6L2X"
      },
      "execution_count": 15,
      "outputs": []
    },
    {
      "cell_type": "code",
      "source": [
        "train_sequences = tokenizer.texts_to_sequences(train_desc)\n",
        "test_sequences = tokenizer.texts_to_sequences(test_desc)\n",
        "\n",
        "padded_train = pad_sequences(train_sequences)\n",
        "padded_test = pad_sequences(test_sequences)"
      ],
      "metadata": {
        "id": "_HqCi8h06pKH"
      },
      "execution_count": 16,
      "outputs": []
    },
    {
      "cell_type": "markdown",
      "source": [
        "Disini, akan dibuat model untuk NLP menggunakan Sequential dengan layer Embedding dan LSTM, kemudian dilanjutkan pembuatan loss function dan optimizer."
      ],
      "metadata": {
        "id": "B07zvPQh9NAL"
      }
    },
    {
      "cell_type": "code",
      "source": [
        "import tensorflow as tf\n",
        "\n",
        "model = tf.keras.Sequential([\n",
        "    tf.keras.layers.Embedding(input_dim=5000, output_dim=16),\n",
        "    tf.keras.layers.LSTM(64),\n",
        "    tf.keras.layers.Dropout(0.5),\n",
        "    tf.keras.layers.Dense(128, activation='relu'),\n",
        "    tf.keras.layers.Dense(64, activation='relu'),\n",
        "    tf.keras.layers.Dropout(0.5),\n",
        "    tf.keras.layers.Dense(5, activation='softmax')\n",
        "])\n",
        "\n",
        "model.compile(\n",
        "    loss='categorical_crossentropy',\n",
        "    optimizer=tf.optimizers.Adam(),\n",
        "    metrics=['accuracy']\n",
        ")\n",
        "model.summary()"
      ],
      "metadata": {
        "colab": {
          "base_uri": "https://localhost:8080/"
        },
        "id": "TgbiVF0V84j2",
        "outputId": "9351afab-ad7f-411a-a5d7-38b57e00b211"
      },
      "execution_count": 20,
      "outputs": [
        {
          "output_type": "stream",
          "name": "stdout",
          "text": [
            "Model: \"sequential_1\"\n",
            "_________________________________________________________________\n",
            " Layer (type)                Output Shape              Param #   \n",
            "=================================================================\n",
            " embedding_1 (Embedding)     (None, None, 16)          80000     \n",
            "                                                                 \n",
            " lstm_1 (LSTM)               (None, 64)                20736     \n",
            "                                                                 \n",
            " dropout (Dropout)           (None, 64)                0         \n",
            "                                                                 \n",
            " dense_3 (Dense)             (None, 128)               8320      \n",
            "                                                                 \n",
            " dense_4 (Dense)             (None, 64)                8256      \n",
            "                                                                 \n",
            " dropout_1 (Dropout)         (None, 64)                0         \n",
            "                                                                 \n",
            " dense_5 (Dense)             (None, 5)                 325       \n",
            "                                                                 \n",
            "=================================================================\n",
            "Total params: 117,637\n",
            "Trainable params: 117,637\n",
            "Non-trainable params: 0\n",
            "_________________________________________________________________\n"
          ]
        }
      ]
    },
    {
      "cell_type": "markdown",
      "source": [
        "Sebelum model dilatih, dilakukan pembuatan fungsi `callback` terlebih dahulu agar ketika sudah mencapai nilai akurasi yang diinginkan proses dapat dihentikan yang akan mempersingkat pemodelan."
      ],
      "metadata": {
        "id": "5fuZeUS7_NTy"
      }
    },
    {
      "cell_type": "code",
      "source": [
        "class myCallback(tf.keras.callbacks.Callback):\n",
        "  def on_epoch_end(self, epoch, logs={}):\n",
        "    if(logs.get('accuracy')>=0.98):\n",
        "      print('\\nEpoch', epoch, '\\nGreat!, Accuracy has reached = %2.2f%%' %(logs['accuracy']*100), 'training is already stop!')\n",
        "      self.model.stop_training = True"
      ],
      "metadata": {
        "id": "Ey-aJxVS_E6Z"
      },
      "execution_count": 21,
      "outputs": []
    },
    {
      "cell_type": "markdown",
      "source": [
        "Sekarang waktunya melatih model yang sudah dibuat!"
      ],
      "metadata": {
        "id": "u127-t7NBYrt"
      }
    },
    {
      "cell_type": "code",
      "source": [
        "num_epochs = 20\n",
        "\n",
        "history = model.fit(\n",
        "    padded_train,\n",
        "    train_label,\n",
        "    epochs=num_epochs,\n",
        "    validation_data=(padded_test, test_label),\n",
        "    batch_size=128,\n",
        "    verbose=2,\n",
        "    callbacks = [myCallback()]\n",
        ")"
      ],
      "metadata": {
        "colab": {
          "base_uri": "https://localhost:8080/"
        },
        "id": "T4WuLxGuBWsa",
        "outputId": "d0a26ce5-4425-496c-d7e8-8747a5b6efb0"
      },
      "execution_count": 22,
      "outputs": [
        {
          "output_type": "stream",
          "name": "stdout",
          "text": [
            "Epoch 1/20\n",
            "14/14 - 49s - loss: 1.6070 - accuracy: 0.2253 - val_loss: 1.6054 - val_accuracy: 0.2157 - 49s/epoch - 4s/step\n",
            "Epoch 2/20\n",
            "14/14 - 49s - loss: 1.6009 - accuracy: 0.2416 - val_loss: 1.6035 - val_accuracy: 0.2157 - 49s/epoch - 4s/step\n",
            "Epoch 3/20\n",
            "14/14 - 47s - loss: 1.5931 - accuracy: 0.2455 - val_loss: 1.5752 - val_accuracy: 0.2157 - 47s/epoch - 3s/step\n",
            "Epoch 4/20\n",
            "14/14 - 46s - loss: 1.5758 - accuracy: 0.2983 - val_loss: 1.5777 - val_accuracy: 0.3011 - 46s/epoch - 3s/step\n",
            "Epoch 5/20\n",
            "14/14 - 46s - loss: 1.5400 - accuracy: 0.3652 - val_loss: 1.5182 - val_accuracy: 0.4809 - 46s/epoch - 3s/step\n",
            "Epoch 6/20\n",
            "14/14 - 46s - loss: 1.4030 - accuracy: 0.5112 - val_loss: 1.3423 - val_accuracy: 0.5753 - 46s/epoch - 3s/step\n",
            "Epoch 7/20\n",
            "14/14 - 46s - loss: 1.0929 - accuracy: 0.6135 - val_loss: 0.9575 - val_accuracy: 0.6449 - 46s/epoch - 3s/step\n",
            "Epoch 8/20\n",
            "14/14 - 49s - loss: 0.6881 - accuracy: 0.7309 - val_loss: 0.6361 - val_accuracy: 0.7438 - 49s/epoch - 4s/step\n",
            "Epoch 9/20\n",
            "14/14 - 46s - loss: 0.4878 - accuracy: 0.7815 - val_loss: 0.6433 - val_accuracy: 0.7551 - 46s/epoch - 3s/step\n",
            "Epoch 10/20\n",
            "14/14 - 46s - loss: 0.3545 - accuracy: 0.8590 - val_loss: 0.5958 - val_accuracy: 0.7933 - 46s/epoch - 3s/step\n",
            "Epoch 11/20\n",
            "14/14 - 47s - loss: 0.2450 - accuracy: 0.9084 - val_loss: 0.5436 - val_accuracy: 0.8404 - 47s/epoch - 3s/step\n",
            "Epoch 12/20\n",
            "14/14 - 46s - loss: 0.1652 - accuracy: 0.9466 - val_loss: 0.6161 - val_accuracy: 0.8270 - 46s/epoch - 3s/step\n",
            "Epoch 13/20\n",
            "14/14 - 46s - loss: 0.1136 - accuracy: 0.9663 - val_loss: 0.6072 - val_accuracy: 0.8315 - 46s/epoch - 3s/step\n",
            "Epoch 14/20\n",
            "\n",
            "Epoch 13 \n",
            "Great!, Accuracy has reached = 98.60% training is already stop!\n",
            "14/14 - 49s - loss: 0.0648 - accuracy: 0.9860 - val_loss: 0.5654 - val_accuracy: 0.8719 - 49s/epoch - 3s/step\n"
          ]
        }
      ]
    },
    {
      "cell_type": "markdown",
      "source": [
        "# Evaluation"
      ],
      "metadata": {
        "id": "y01DN0qeLv-J"
      }
    },
    {
      "cell_type": "markdown",
      "source": [
        "Untuk melihat bagaimana kinerja model yang sudah dibuat, digambarkan melalui plot berikut"
      ],
      "metadata": {
        "id": "1P0q2lUaLCb3"
      }
    },
    {
      "cell_type": "code",
      "source": [
        "import matplotlib.pyplot as plt\n",
        "import matplotlib.image as mpimg\n",
        "%matplotlib inline\n",
        "\n",
        "plt.figure(figsize=(14, 5))\n",
        "# Accuracy Plot\n",
        "plt.subplot(1, 2, 1)\n",
        "acc = history.history['accuracy']\n",
        "val_acc = history.history['val_accuracy']\n",
        "epochs = range(len(acc))\n",
        "plt.plot(epochs, acc, label='Training Accuracy')\n",
        "plt.plot(epochs, val_acc, label='Validation Accuracy')\n",
        "plt.legend(loc='lower right')\n",
        "plt.title('Training and Validation Accuracy')\n",
        "\n",
        "# Loss Plot\n",
        "plt.subplot(1, 2, 2)\n",
        "loss = history.history['loss']\n",
        "val_loss = history.history['val_loss']\n",
        "epochs = range(len(acc))\n",
        "plt.plot(epochs, loss, label='Training Loss')\n",
        "plt.plot(epochs, val_loss, label='Validation Loss')\n",
        "plt.legend(loc='upper right')\n",
        "plt.title('Training and Validation Loss')\n",
        "\n",
        "plt.show()"
      ],
      "metadata": {
        "colab": {
          "base_uri": "https://localhost:8080/",
          "height": 336
        },
        "id": "aq_U04bVCwBF",
        "outputId": "e87d55c1-8c08-44a8-87cd-e0b138b37c32"
      },
      "execution_count": 23,
      "outputs": [
        {
          "output_type": "display_data",
          "data": {
            "text/plain": [
              "<Figure size 1008x360 with 2 Axes>"
            ],
            "image/png": "[encoded data removed]"
          },
          "metadata": {
            "needs_background": "light"
          }
        }
      ]
    },
    {
      "cell_type": "markdown",
      "source": [
        "Nampaknya, model yang telah dibuat masih menunjukkan adanya overfitting, sehingga saran yang dapat dilakukan adalah menambahkan dropout layer atau bisa melakukan normalisasi sebelumnya."
      ],
      "metadata": {
        "id": "2aoT5zAyL0PC"
      }
    }
  ]
}